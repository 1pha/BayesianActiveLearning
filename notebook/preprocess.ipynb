{
 "cells": [
  {
   "cell_type": "markdown",
   "metadata": {},
   "source": [
    "Note that this notebook was used in other directory.   \n",
    "This was to remove duplicate papers"
   ]
  },
  {
   "cell_type": "code",
   "execution_count": null,
   "metadata": {},
   "outputs": [],
   "source": [
    "import datasets\n",
    "from datasets import load_from_disk\n",
    "\n",
    "dataset = load_from_disk('../data/paperswithcode/')\n",
    "dataset"
   ]
  },
  {
   "cell_type": "code",
   "execution_count": null,
   "metadata": {},
   "outputs": [],
   "source": [
    "full_ds = datasets.concatenate_datasets([dataset[\"train\"], dataset[\"dev\"], dataset[\"test_gt\"]])\n",
    "full_ds"
   ]
  },
  {
   "cell_type": "code",
   "execution_count": null,
   "metadata": {},
   "outputs": [],
   "source": [
    "set(full_ds[\"area\"])"
   ]
  },
  {
   "cell_type": "code",
   "execution_count": null,
   "metadata": {},
   "outputs": [],
   "source": [
    "len(set(map(str.lower, full_ds[\"title\"])))"
   ]
  },
  {
   "cell_type": "code",
   "execution_count": null,
   "metadata": {},
   "outputs": [],
   "source": [
    "from collections import Counter\n",
    "\n",
    "counter = Counter(map(str.lower, full_ds[\"title\"]))\n",
    "multiple = [k for k, v in counter.items() if v > 1]"
   ]
  },
  {
   "cell_type": "code",
   "execution_count": null,
   "metadata": {},
   "outputs": [],
   "source": [
    "duplicates = full_ds.filter(lambda x: x[\"title\"].lower() in multiple)"
   ]
  },
  {
   "cell_type": "code",
   "execution_count": null,
   "metadata": {},
   "outputs": [],
   "source": [
    "def argsort(seq):\n",
    "    # http://stackoverflow.com/questions/3071415/efficient-method-to-calculate-the-rank-vector-of-a-list-in-python\n",
    "    return sorted(range(len(seq)), key=seq.__getitem__)"
   ]
  },
  {
   "cell_type": "code",
   "execution_count": null,
   "metadata": {},
   "outputs": [],
   "source": [
    "idx = argsort(duplicates[\"title\"])\n",
    "duplicates[idx][\"area\"]"
   ]
  },
  {
   "cell_type": "code",
   "execution_count": null,
   "metadata": {},
   "outputs": [],
   "source": [
    "for i in range(0, 50, 2):\n",
    "    if duplicates[idx][\"area\"][i] != duplicates[idx][\"area\"][i+1]:\n",
    "        print(i)\n",
    "        print(duplicates[idx][\"area\"][i], duplicates[idx][\"area\"][i+1])"
   ]
  },
  {
   "cell_type": "code",
   "execution_count": null,
   "metadata": {},
   "outputs": [],
   "source": [
    "duplicates[idx][\"title\"][14]"
   ]
  },
  {
   "cell_type": "code",
   "execution_count": null,
   "metadata": {},
   "outputs": [],
   "source": [
    "duplicates[idx][\"title\"][16]"
   ]
  },
  {
   "cell_type": "code",
   "execution_count": null,
   "metadata": {},
   "outputs": [],
   "source": [
    "import matplotlib.pyplot as plt\n",
    "import seaborn as sns\n",
    "sns.set_theme();\n",
    "\n",
    "hist = Counter(full_ds[\"area\"])\n",
    "fig, ax = plt.subplots(figsize=(14, 10))\n",
    "ax.set_title(\"Category Distribution\", size=\"x-large\")\n",
    "ax.set_xlabel(\"A.I. Subfield\", size=\"x-large\")\n",
    "ax.set_ylabel(\"Counts\", size=\"x-large\")\n",
    "ax.set_xticklabels(list(hist.keys()), rotation=90, size=\"large\")\n",
    "sns.barplot(list(hist.keys()), list(hist.values()), ax=ax)"
   ]
  },
  {
   "cell_type": "code",
   "execution_count": null,
   "metadata": {},
   "outputs": [],
   "source": [
    "duplicate_set = set(duplicates[\"title\"])\n",
    "delete_set = [\n",
    "    'Decoding visemes: improving machine lipreading',\n",
    "    'Distributed Online Learning with Multiple Kernels'\n",
    "]\n",
    "for d in delete_set:\n",
    "    duplicate_set.remove(d)"
   ]
  },
  {
   "cell_type": "code",
   "execution_count": null,
   "metadata": {},
   "outputs": [],
   "source": [
    "full_pd = full_ds.to_pandas()\n",
    "full_pd = full_pd[full_pd.title.map(lambda x: x not in delete_set)]\n",
    "full_pd = full_pd.sort_values(by=[\"title\", \"arxiv_id\"]).drop_duplicates(subset=[\"title\"], keep=\"last\")\n",
    "full_pd.drop(9929, inplace=True)"
   ]
  },
  {
   "cell_type": "code",
   "execution_count": null,
   "metadata": {},
   "outputs": [],
   "source": [
    "processed_ds = datasets.Dataset.from_pandas(full_pd)\n",
    "processed_ds = processed_ds.remove_columns('__index_level_0__')"
   ]
  },
  {
   "cell_type": "code",
   "execution_count": null,
   "metadata": {},
   "outputs": [],
   "source": [
    "from sklearn.model_selection import train_test_split\n",
    "\n",
    "train_pp, testdev_pp = train_test_split(processed_ds, train_size=0.9, random_state=42, stratify=processed_ds['area'])\n",
    "\n",
    "testdev_pp = datasets.Dataset.from_dict(testdev_pp)\n",
    "dev_pp, test_pp = train_test_split(testdev_pp, test_size=0.5, random_state=42, stratify=testdev_pp['area'])"
   ]
  },
  {
   "cell_type": "code",
   "execution_count": null,
   "metadata": {},
   "outputs": [],
   "source": [
    "train_pp = datasets.Dataset.from_dict(train_pp)\n",
    "# train_pp.save_to_disk('./data/paperswithcode/train')\n",
    "\n",
    "dev_pp = datasets.Dataset.from_dict(dev_pp)\n",
    "# dev_pp.save_to_disk('./data/paperswithcode/dev')\n",
    "\n",
    "test_pp = datasets.Dataset.from_dict(test_pp)\n",
    "# test_pp.save_to_disk('./data/paperswithcode/test_gt')\n",
    "\n",
    "# test_pp = test_pp.remove_columns(['area', 'task_id'])\n",
    "# test_pp.save_to_disk('./data/test')"
   ]
  },
  {
   "cell_type": "code",
   "execution_count": null,
   "metadata": {},
   "outputs": [],
   "source": [
    "data_dir = \"H:/My Drive/school_materials/2021Fall/bayesian_final_project/data/paperswithcode\""
   ]
  },
  {
   "cell_type": "code",
   "execution_count": null,
   "metadata": {},
   "outputs": [],
   "source": [
    "train_pp.save_to_disk(f'{data_dir}/train')\n",
    "dev_pp.save_to_disk(f'{data_dir}/dev')\n",
    "test_pp.save_to_disk(f'{data_dir}/test_gt')"
   ]
  },
  {
   "cell_type": "code",
   "execution_count": 20,
   "metadata": {},
   "outputs": [],
   "source": [
    "import json\n",
    "import datasets\n",
    "from collections import Counter\n",
    "\n",
    "full_dataset = datasets.load_from_disk(\"../data/tokenized_paperswithcode\")\n",
    "full_dataset = datasets.concatenate_datasets([full_dataset[\"train\"], full_dataset[\"valid\"], full_dataset[\"test\"]])"
   ]
  },
  {
   "cell_type": "code",
   "execution_count": 18,
   "metadata": {},
   "outputs": [],
   "source": [
    "with open(\"../assets/area2idx.json\", \"r\") as f:\n",
    "    area2idx = json.load(f)"
   ]
  },
  {
   "cell_type": "code",
   "execution_count": 30,
   "metadata": {},
   "outputs": [],
   "source": [
    "idx2area = {v: k for k, v in area2idx.items()}"
   ]
  },
  {
   "cell_type": "code",
   "execution_count": 19,
   "metadata": {},
   "outputs": [
    {
     "name": "stderr",
     "output_type": "stream",
     "text": [
      "100%|██████████| 53/53 [00:02<00:00, 17.70ba/s]\n"
     ]
    }
   ],
   "source": [
    "filtered = full_dataset.filter(lambda x: x[\"labels\"] not in list(map(lambda x: area2idx[x], [\"methodology\", \"audio\", \"computer-code\", 'music'])))"
   ]
  },
  {
   "cell_type": "code",
   "execution_count": 34,
   "metadata": {},
   "outputs": [
    {
     "name": "stderr",
     "output_type": "stream",
     "text": [
      "C:\\Users\\pha\\anaconda3\\envs\\bnn\\lib\\site-packages\\ipykernel_launcher.py:11: UserWarning: FixedFormatter should only be used together with FixedLocator\n",
      "  # This is added back by InteractiveShellApp.init_path()\n",
      "C:\\Users\\pha\\anaconda3\\envs\\bnn\\lib\\site-packages\\seaborn\\_decorators.py:43: FutureWarning: Pass the following variables as keyword args: x, y. From version 0.12, the only valid positional argument will be `data`, and passing other arguments without an explicit keyword will result in an error or misinterpretation.\n",
      "  FutureWarning\n"
     ]
    },
    {
     "data": {
      "text/plain": [
       "<AxesSubplot:title={'center':'Category Distribution'}, xlabel='A.I. Subfield', ylabel='Counts'>"
      ]
     },
     "execution_count": 34,
     "metadata": {},
     "output_type": "execute_result"
    },
    {
     "data": {
      "image/png": "[encoded data removed]",
      "text/plain": [
       "<Figure size 1008x720 with 1 Axes>"
      ]
     },
     "metadata": {},
     "output_type": "display_data"
    }
   ],
   "source": [
    "import matplotlib.pyplot as plt\n",
    "import seaborn as sns\n",
    "sns.set_theme();\n",
    "\n",
    "hist = Counter(filtered[\"labels\"])\n",
    "fig, ax = plt.subplots(figsize=(14, 10))\n",
    "ax.set_title(\"Category Distribution\", size=\"x-large\")\n",
    "ax.set_xlabel(\"A.I. Subfield\", size=\"x-large\")\n",
    "ax.set_ylabel(\"Counts\", size=\"x-large\")\n",
    "ax.set_xticklabels(\n",
    "    list(map(lambda x: idx2area[x], list(hist.keys()))), rotation=90, size=\"large\"\n",
    ")\n",
    "sns.barplot(list(map(lambda x: idx2area[x], list(hist.keys()))), list(hist.values()), ax=ax)"
   ]
  },
  {
   "cell_type": "code",
   "execution_count": 37,
   "metadata": {},
   "outputs": [],
   "source": [
    "leftover_keys = sorted(map(lambda x: idx2area[x], list(hist.keys())))"
   ]
  },
  {
   "cell_type": "code",
   "execution_count": 39,
   "metadata": {},
   "outputs": [],
   "source": [
    "balanced_mapper = {area: idx for idx, area in enumerate(leftover_keys)}"
   ]
  },
  {
   "cell_type": "code",
   "execution_count": 45,
   "metadata": {},
   "outputs": [],
   "source": [
    "def batch_map(example):\n",
    "\n",
    "    example[\"labels\"] = balanced_mapper[idx2area[example[\"labels\"]]]\n",
    "    return example"
   ]
  },
  {
   "cell_type": "code",
   "execution_count": 47,
   "metadata": {},
   "outputs": [
    {
     "name": "stderr",
     "output_type": "stream",
     "text": [
      "100%|██████████| 39263/39263 [00:05<00:00, 7207.57ex/s]\n"
     ]
    }
   ],
   "source": [
    "filtered = filtered.map(batch_map)"
   ]
  },
  {
   "cell_type": "code",
   "execution_count": 53,
   "metadata": {},
   "outputs": [],
   "source": [
    "from sklearn.model_selection import train_test_split\n",
    "\n",
    "train_pp, testdev_pp = train_test_split(filtered, train_size=0.9, random_state=42, stratify=filtered['labels'])\n",
    "\n",
    "testdev_pp = datasets.Dataset.from_dict(testdev_pp)\n",
    "dev_pp, test_pp = train_test_split(testdev_pp, test_size=0.5, random_state=42, stratify=testdev_pp['labels'])"
   ]
  },
  {
   "cell_type": "code",
   "execution_count": 54,
   "metadata": {},
   "outputs": [],
   "source": [
    "train_pp = datasets.Dataset.from_dict(train_pp)\n",
    "train_pp.save_to_disk('../data/paperswithcode_balanced_tokenized/train')\n",
    "\n",
    "dev_pp = datasets.Dataset.from_dict(dev_pp)\n",
    "dev_pp.save_to_disk('../data/paperswithcode_balanced_tokenized/valid')\n",
    "\n",
    "test_pp = datasets.Dataset.from_dict(test_pp)\n",
    "test_pp.save_to_disk('../data/paperswithcode_balanced_tokenized/test_gt')\n",
    "\n",
    "# test_pp = test_pp.remove_columns(['area', 'task_id'])\n",
    "# test_pp.save_to_disk('./data/test')"
   ]
  },
  {
   "cell_type": "code",
   "execution_count": 55,
   "metadata": {},
   "outputs": [],
   "source": [
    "with open(\"../data/paperswithcode_balanced_tokenized/area2idx.json\", \"w\") as f:\n",
    "    json.dump(balanced_mapper, f)"
   ]
  },
  {
   "cell_type": "code",
   "execution_count": null,
   "metadata": {},
   "outputs": [],
   "source": []
  }
 ],
 "metadata": {
  "interpreter": {
   "hash": "a61f66c06004f41873e28d463485a6c1d6ba80ac66cbf9cb782a5e0aa1d62397"
  },
  "kernelspec": {
   "display_name": "Python 3.7.11 64-bit ('bnn': conda)",
   "language": "python",
   "name": "python3"
  },
  "language_info": {
   "codemirror_mode": {
    "name": "ipython",
    "version": 3
   },
   "file_extension": ".py",
   "mimetype": "text/x-python",
   "name": "python",
   "nbconvert_exporter": "python",
   "pygments_lexer": "ipython3",
   "version": "3.7.11"
  },
  "orig_nbformat": 4
 },
 "nbformat": 4,
 "nbformat_minor": 2
}
