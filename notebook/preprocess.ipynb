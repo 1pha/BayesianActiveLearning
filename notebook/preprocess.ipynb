{
 "cells": [
  {
   "cell_type": "markdown",
   "metadata": {},
   "source": [
    "Note that this notebook was used in other directory.   \n",
    "This was to remove duplicate papers"
   ]
  },
  {
   "cell_type": "code",
   "execution_count": null,
   "metadata": {},
   "outputs": [],
   "source": [
    "import datasets\n",
    "from datasets import load_from_disk\n",
    "\n",
    "dataset = load_from_disk('../data/paperswithcode/')\n",
    "dataset"
   ]
  },
  {
   "cell_type": "code",
   "execution_count": null,
   "metadata": {},
   "outputs": [],
   "source": [
    "full_ds = datasets.concatenate_datasets([dataset[\"train\"], dataset[\"dev\"], dataset[\"test_gt\"]])\n",
    "full_ds"
   ]
  },
  {
   "cell_type": "code",
   "execution_count": null,
   "metadata": {},
   "outputs": [],
   "source": [
    "set(full_ds[\"area\"])"
   ]
  },
  {
   "cell_type": "code",
   "execution_count": null,
   "metadata": {},
   "outputs": [],
   "source": [
    "len(set(map(str.lower, full_ds[\"title\"])))"
   ]
  },
  {
   "cell_type": "code",
   "execution_count": null,
   "metadata": {},
   "outputs": [],
   "source": [
    "from collections import Counter\n",
    "\n",
    "counter = Counter(map(str.lower, full_ds[\"title\"]))\n",
    "multiple = [k for k, v in counter.items() if v > 1]"
   ]
  },
  {
   "cell_type": "code",
   "execution_count": null,
   "metadata": {},
   "outputs": [],
   "source": [
    "duplicates = full_ds.filter(lambda x: x[\"title\"].lower() in multiple)"
   ]
  },
  {
   "cell_type": "code",
   "execution_count": null,
   "metadata": {},
   "outputs": [],
   "source": [
    "def argsort(seq):\n",
    "    # http://stackoverflow.com/questions/3071415/efficient-method-to-calculate-the-rank-vector-of-a-list-in-python\n",
    "    return sorted(range(len(seq)), key=seq.__getitem__)"
   ]
  },
  {
   "cell_type": "code",
   "execution_count": null,
   "metadata": {},
   "outputs": [],
   "source": [
    "idx = argsort(duplicates[\"title\"])\n",
    "duplicates[idx][\"area\"]"
   ]
  },
  {
   "cell_type": "code",
   "execution_count": null,
   "metadata": {},
   "outputs": [],
   "source": [
    "for i in range(0, 50, 2):\n",
    "    if duplicates[idx][\"area\"][i] != duplicates[idx][\"area\"][i+1]:\n",
    "        print(i)\n",
    "        print(duplicates[idx][\"area\"][i], duplicates[idx][\"area\"][i+1])"
   ]
  },
  {
   "cell_type": "code",
   "execution_count": null,
   "metadata": {},
   "outputs": [],
   "source": [
    "duplicates[idx][\"title\"][14]"
   ]
  },
  {
   "cell_type": "code",
   "execution_count": null,
   "metadata": {},
   "outputs": [],
   "source": [
    "duplicates[idx][\"title\"][16]"
   ]
  },
  {
   "cell_type": "code",
   "execution_count": null,
   "metadata": {},
   "outputs": [],
   "source": [
    "import matplotlib.pyplot as plt\n",
    "import seaborn as sns\n",
    "sns.set_theme();\n",
    "\n",
    "hist = Counter(full_ds[\"area\"])\n",
    "fig, ax = plt.subplots(figsize=(14, 10))\n",
    "ax.set_title(\"Category Distribution\", size=\"x-large\")\n",
    "ax.set_xlabel(\"A.I. Subfield\", size=\"x-large\")\n",
    "ax.set_ylabel(\"Counts\", size=\"x-large\")\n",
    "ax.set_xticklabels(list(hist.keys()), rotation=90, size=\"large\")\n",
    "sns.barplot(list(hist.keys()), list(hist.values()), ax=ax)"
   ]
  },
  {
   "cell_type": "code",
   "execution_count": null,
   "metadata": {},
   "outputs": [],
   "source": [
    "duplicate_set = set(duplicates[\"title\"])\n",
    "delete_set = [\n",
    "    'Decoding visemes: improving machine lipreading',\n",
    "    'Distributed Online Learning with Multiple Kernels'\n",
    "]\n",
    "for d in delete_set:\n",
    "    duplicate_set.remove(d)"
   ]
  },
  {
   "cell_type": "code",
   "execution_count": null,
   "metadata": {},
   "outputs": [],
   "source": [
    "full_pd = full_ds.to_pandas()\n",
    "full_pd = full_pd[full_pd.title.map(lambda x: x not in delete_set)]\n",
    "full_pd = full_pd.sort_values(by=[\"title\", \"arxiv_id\"]).drop_duplicates(subset=[\"title\"], keep=\"last\")\n",
    "full_pd.drop(9929, inplace=True)"
   ]
  },
  {
   "cell_type": "code",
   "execution_count": null,
   "metadata": {},
   "outputs": [],
   "source": [
    "processed_ds = datasets.Dataset.from_pandas(full_pd)\n",
    "processed_ds = processed_ds.remove_columns('__index_level_0__')"
   ]
  },
  {
   "cell_type": "code",
   "execution_count": null,
   "metadata": {},
   "outputs": [],
   "source": [
    "from sklearn.model_selection import train_test_split\n",
    "\n",
    "train_pp, testdev_pp = train_test_split(processed_ds, train_size=0.9, random_state=42, stratify=processed_ds['area'])\n",
    "\n",
    "testdev_pp = datasets.Dataset.from_dict(testdev_pp)\n",
    "dev_pp, test_pp = train_test_split(testdev_pp, test_size=0.5, random_state=42, stratify=testdev_pp['area'])"
   ]
  },
  {
   "cell_type": "code",
   "execution_count": null,
   "metadata": {},
   "outputs": [],
   "source": [
    "train_pp = datasets.Dataset.from_dict(train_pp)\n",
    "# train_pp.save_to_disk('./data/paperswithcode/train')\n",
    "\n",
    "dev_pp = datasets.Dataset.from_dict(dev_pp)\n",
    "# dev_pp.save_to_disk('./data/paperswithcode/dev')\n",
    "\n",
    "test_pp = datasets.Dataset.from_dict(test_pp)\n",
    "# test_pp.save_to_disk('./data/paperswithcode/test_gt')\n",
    "\n",
    "# test_pp = test_pp.remove_columns(['area', 'task_id'])\n",
    "# test_pp.save_to_disk('./data/test')"
   ]
  },
  {
   "cell_type": "code",
   "execution_count": null,
   "metadata": {},
   "outputs": [],
   "source": [
    "data_dir = \"H:/My Drive/school_materials/2021Fall/bayesian_final_project/data/paperswithcode\""
   ]
  },
  {
   "cell_type": "code",
   "execution_count": null,
   "metadata": {},
   "outputs": [],
   "source": [
    "train_pp.save_to_disk(f'{data_dir}/train')\n",
    "dev_pp.save_to_disk(f'{data_dir}/dev')\n",
    "test_pp.save_to_disk(f'{data_dir}/test_gt')"
   ]
  }
 ],
 "metadata": {
  "language_info": {
   "name": "python"
  },
  "orig_nbformat": 4
 },
 "nbformat": 4,
 "nbformat_minor": 2
}
