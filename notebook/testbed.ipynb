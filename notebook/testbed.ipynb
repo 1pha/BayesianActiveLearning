{
 "cells": [
  {
   "cell_type": "code",
   "execution_count": 1,
   "metadata": {},
   "outputs": [
    {
     "name": "stderr",
     "output_type": "stream",
     "text": [
      "C:\\Users\\pha\\anaconda3\\envs\\bnn\\lib\\site-packages\\torch\\cuda\\__init__.py:80: UserWarning: CUDA initialization: The NVIDIA driver on your system is too old (found version 10010). Please update your GPU driver by downloading and installing a new version from the URL: http://www.nvidia.com/Download/index.aspx Alternatively, go to: https://pytorch.org to install a PyTorch version that has been compiled with your version of the CUDA driver. (Triggered internally at  ..\\c10\\cuda\\CUDAFunctions.cpp:112.)\n",
      "  return torch._C._cuda_getDeviceCount() > 0\n"
     ]
    }
   ],
   "source": [
    "import sys\n",
    "sys.path.append(\"../code\")\n",
    "from dataloader import PaperDataset\n",
    "from config import DataArguments, TrainerArguments"
   ]
  },
  {
   "cell_type": "code",
   "execution_count": 2,
   "metadata": {},
   "outputs": [
    {
     "name": "stderr",
     "output_type": "stream",
     "text": [
      "11/20/2021 16:34:00 - INFO - dataloader - PID: 11936 -  Initialize Train Dataset.\n",
      "11/20/2021 16:34:00 - INFO - dataloader - PID: 11936 -  Remove abstract.\n",
      "11/20/2021 16:34:00 - INFO - dataloader - PID: 11936 -  Remove task_id\n",
      "11/20/2021 16:34:00 - INFO - dataloader - PID: 11936 -  Use 0.05% of the total dataset.\n",
      "11/20/2021 16:34:00 - INFO - dataloader - PID: 11936 -  Total 2363 of papers will be used.\n",
      "11/20/2021 16:34:03 - INFO - preprocess - PID: 11936 -  Successfully loaded Spacy Tokenizer, en_core_web_trf\n",
      "11/20/2021 16:34:03 - INFO - dataloader - PID: 11936 -  Successfully loaded mapper file ..\\assets\\area2idx.json\n"
     ]
    }
   ],
   "source": [
    "data_args = DataArguments\n",
    "training_args = TrainerArguments\n",
    "\n",
    "data_args.data_dir = \"../data/\"\n",
    "data_args.seed = training_args.seed\n",
    "\n",
    "dataset = PaperDataset(config=data_args)"
   ]
  },
  {
   "cell_type": "code",
   "execution_count": 3,
   "metadata": {},
   "outputs": [
    {
     "name": "stderr",
     "output_type": "stream",
     "text": [
      "C:\\Users\\pha\\anaconda3\\envs\\bnn\\lib\\site-packages\\torch\\cuda\\__init__.py:80: UserWarning: CUDA initialization: The NVIDIA driver on your system is too old (found version 10010). Please update your GPU driver by downloading and installing a new version from the URL: http://www.nvidia.com/Download/index.aspx Alternatively, go to: https://pytorch.org to install a PyTorch version that has been compiled with your version of the CUDA driver. (Triggered internally at  ..\\c10\\cuda\\CUDAFunctions.cpp:112.)\n",
      "  return torch._C._cuda_getDeviceCount() > 0\n",
      "C:\\Users\\pha\\anaconda3\\envs\\bnn\\lib\\site-packages\\torch\\autocast_mode.py:141: UserWarning: User provided device_type of 'cuda', but CUDA is not available. Disabling\n",
      "  warnings.warn('User provided device_type of \\'cuda\\', but CUDA is not available. Disabling')\n"
     ]
    }
   ],
   "source": [
    "import spacy\n",
    "\n",
    "documents = \"Spacy sucks. Nothing is being donwloaded.\"\n",
    "\n",
    "tokenizer = spacy.load(\"en_core_web_trf\")\n",
    "doc = tokenizer(documents)"
   ]
  },
  {
   "cell_type": "code",
   "execution_count": 16,
   "metadata": {},
   "outputs": [
    {
     "data": {
      "text/plain": [
       "torch.Tensor"
      ]
     },
     "execution_count": 16,
     "metadata": {},
     "output_type": "execute_result"
    }
   ],
   "source": [
    "type(doc._.trf_data.tokens[\"input_ids\"])"
   ]
  },
  {
   "cell_type": "code",
   "execution_count": null,
   "metadata": {},
   "outputs": [],
   "source": []
  }
 ],
 "metadata": {
  "interpreter": {
   "hash": "a61f66c06004f41873e28d463485a6c1d6ba80ac66cbf9cb782a5e0aa1d62397"
  },
  "kernelspec": {
   "display_name": "Python 3.7.11 64-bit ('bnn': conda)",
   "language": "python",
   "name": "python3"
  },
  "language_info": {
   "codemirror_mode": {
    "name": "ipython",
    "version": 3
   },
   "file_extension": ".py",
   "mimetype": "text/x-python",
   "name": "python",
   "nbconvert_exporter": "python",
   "pygments_lexer": "ipython3",
   "version": "3.7.11"
  },
  "orig_nbformat": 4
 },
 "nbformat": 4,
 "nbformat_minor": 2
}
